{
 "cells": [
  {
   "cell_type": "markdown",
   "metadata": {},
   "source": [
    "# CBTN learning lab for multi-modal imaging\n",
    "#### October 10, 2024\n",
    "\n",
    "The Flywheel Python SDK is a powerful resource for data management and processing on Flywheel. This notebook illustrates how to run pre-processing and automated tumor segmentation, to implement the same steps we completed in the web browser interface.\n",
    "\n",
    "For documentation and additional examples, please see:\n",
    "- [Flywheel SDK main documentation](https://flywheel-io.gitlab.io/product/backend/sdk/tags/18.1.0/python/index.html#)\n",
    "- [CHOP-D3b repository of SDK examples](https://github.com/d3b-center/d3b-tiru-flywheel-code-repo)"
   ]
  },
  {
   "cell_type": "code",
   "execution_count": 9,
   "metadata": {},
   "outputs": [],
   "source": [
    "import flywheel\n",
    "from datetime import datetime\n",
    "\n",
    "# access the Flywheel client\n",
    "your_api_key = 'enter-your-api-key'\n",
    "fw = flywheel.Client(your_api_key)"
   ]
  },
  {
   "cell_type": "markdown",
   "metadata": {},
   "source": [
    "### Run pre-processing using the Flywheel SDK (single session)"
   ]
  },
  {
   "cell_type": "code",
   "execution_count": 10,
   "metadata": {},
   "outputs": [],
   "source": [
    "# define the project to run the gear in\n",
    "project_group = 'cbtn-summit'\n",
    "project_name = 'CBTN_raw_data'\n",
    "# load the project container using the find function\n",
    "project = fw.projects.find_first(f'label={project_name}')\n",
    "\n",
    "# define the subject and session labels to process\n",
    "sub_id = 'C1173420'\n",
    "ses_id = '697d_B_brain_09h58m'\n",
    "\n",
    "# define the acquisition labels to use as gear inputs\n",
    "acq_map = {'T1':    '09 - t1 3D cor mprage',\n",
    "           'T1CE':  '14 - t1 3D ax mprage (stealth)',\n",
    "           'T2':    '10 - t2_tse_tra',\n",
    "           'FLAIR': '04 - t2_tirm_fs_tra_dark-fluid_320'\n",
    "            }\n",
    "\n",
    "## Initialize the gear\n",
    "gear_name = 'captk-brats-pipeline'\n",
    "gear2run = fw.lookup(f'gears/{gear_name}')\n",
    "\n",
    "## load the file containers that we want to input into the gear\n",
    "session = fw.lookup(f'{project_group}/{project_name}/{sub_id}/{ses_id}')\n",
    "gear_inputs = {'FLAIR':[], \\\n",
    "            'T1':[], \\\n",
    "            'T1CE':[], \\\n",
    "            'T2':[]\n",
    "            }\n",
    "\n",
    "for acquisition in session.acquisitions.iter():\n",
    "    if any(acquisition.label in value for value in acq_map.values()): # if this acquisition matches one of the 4 in our dictionary\n",
    "        # find the nifti file container within this acquisition\n",
    "        im_type = [key for key, value in acq_map.items() if acquisition.label in value][0]\n",
    "        for file_obj in acquisition.files:\n",
    "            if file_obj.type == 'nifti':\n",
    "                gear_inputs[im_type] = file_obj\n",
    "\n",
    "# queue the gear to run on the Flywheel instance\n",
    "time_fmt = '%m/%d/%Y %H:%M:%S'\n",
    "analysis_label = f'{gear_name} {datetime.now().strftime(time_fmt)}'\n",
    "job_id = gear2run.run(analysis_label = analysis_label, \\\n",
    "                        inputs = gear_inputs, \\\n",
    "                        destination = session )\n"
   ]
  },
  {
   "cell_type": "markdown",
   "metadata": {},
   "source": [
    "### Run automated tumor segmentation gear on pre-processed images (multi-session)"
   ]
  },
  {
   "cell_type": "markdown",
   "metadata": {},
   "source": [
    "Now we'll assume the BraTS pipeline has been run for all selected sessions in our experiment and there's a corresponding analysis container at the session-level.\n",
    "\n",
    "Next we'll run gears to generate a brain mask and tumor segmentation based on pre-trained deep learning models."
   ]
  },
  {
   "cell_type": "code",
   "execution_count": null,
   "metadata": {},
   "outputs": [],
   "source": [
    "# we're going to take the pre-processed images from the BraTS analysis containers\n",
    "# and input the files into the automated tumor segmentation gear\n",
    "source_gear = 'captk-brats-pipeline'\n",
    "destination_gear = 'd3b-ped-auto-seg-nnunet'\n",
    "\n",
    "## Initialize gear\n",
    "gear2run = fw.lookup(f'gears/{destination_gear}')\n",
    "\n",
    "# loop through all session containers in the project\n",
    "for session in project.sessions.iter():\n",
    "    gear_inputs = {'t1':[],\n",
    "                    't1ce':[],\n",
    "                    't2':[],\n",
    "                    'flair':[],\n",
    "                    }\n",
    "    # Make sure we have all our analysis since we got the session through an iterator, and not \"fw.get()'\n",
    "    ses = ses.reload()\n",
    "    # load the analysis containers attached to this session\n",
    "    analyses = ses.analyses\n",
    "    # If there are no analyses containers, we know that this gear was not run. \n",
    "    if len(analyses) > 0:\n",
    "        # Check to see if any were generated by our pre-processing gear\n",
    "        matches = [asys for asys in analyses if asys.gear_info.get('name') == source_gear]\n",
    "        # make sure these were successful runs\n",
    "        matches = [match for match in matches if match.job.state in ['complete']]\n",
    "        if len(matches) > 0:\n",
    "            match = matches[0] # grab first successful match\n",
    "            # define the gear inputs based on the known file naming of the pre-processed images\n",
    "            for output_file in match.files:\n",
    "                if 'T1_to_SRI' in output_file.name:\n",
    "                    gear_inputs['t1'] = output_file\n",
    "                elif 'T1CE_to_SRI' in output_file.name:\n",
    "                    gear_inputs['t1ce'] = output_file\n",
    "                elif 'T2_to_SRI' in output_file.name:\n",
    "                    gear_inputs['t2'] = output_file\n",
    "                elif 'FL_to_SRI' in output_file.name:\n",
    "                    gear_inputs['flair'] = output_file\n",
    "        # queue gear to run\n",
    "        time_fmt = '%m/%d/%Y %H:%M:%S'\n",
    "        analysis_label = f'{gear_name} {datetime.now().strftime(time_fmt)}'\n",
    "        job_id = gear2run.run(analysis_label = analysis_label, \\\n",
    "                                    inputs = gear_inputs, \\\n",
    "                                    destination = session )\n"
   ]
  }
 ],
 "metadata": {
  "kernelspec": {
   "display_name": "Python 3",
   "language": "python",
   "name": "python3"
  },
  "language_info": {
   "codemirror_mode": {
    "name": "ipython",
    "version": 3
   },
   "file_extension": ".py",
   "mimetype": "text/x-python",
   "name": "python",
   "nbconvert_exporter": "python",
   "pygments_lexer": "ipython3",
   "version": "3.10.10"
  }
 },
 "nbformat": 4,
 "nbformat_minor": 2
}
